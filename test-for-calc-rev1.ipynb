{
 "cells": [
  {
   "cell_type": "code",
   "execution_count": 70,
   "metadata": {},
   "outputs": [],
   "source": [
    "import math\n",
    "from decimal import *"
   ]
  },
  {
   "cell_type": "code",
   "execution_count": 71,
   "metadata": {},
   "outputs": [],
   "source": [
    "c = getcontext()\n",
    "c.traps[FloatOperation] = True"
   ]
  },
  {
   "cell_type": "code",
   "execution_count": 72,
   "metadata": {},
   "outputs": [],
   "source": [
    "# 分割じゃない金額の時に使えるかもしれないコード\n",
    "#file_name = 'test-for-calc-result-list.txt'\n",
    "\n",
    "## [1シート目]各消費税毎で、1の位が0になる金額の調査用\n",
    "#tax_rate = Decimal(3)\n",
    "#base_num = 1\n",
    "#max_range = 500000\n",
    "\n",
    "#result_list = []\n",
    "#tax_calc = 1 + (tax_rate / 100)\n",
    "#for i in range(max_range):\n",
    "#    result_zeikomi = Decimal((base_num + i) * tax_calc)\n",
    "#    if result_zeikomi - (math.floor(result_zeikomi / 10) * 10) == Decimal(0):\n",
    "#        result_list.append([(base_num + i), int(result_zeikomi)])\n",
    "#f = open(file_name, 'w')\n",
    "#for x in result_list:\n",
    "#    f.write(str(x) + \"\\n\")\n",
    "#f.close()"
   ]
  },
  {
   "cell_type": "code",
   "execution_count": 73,
   "metadata": {},
   "outputs": [],
   "source": [
    "# [3シート目]分割金額の請求時の税込金額と分割回数を考慮したパターン\n",
    "file_name = 'test-for-calc-result-pair.txt'\n",
    "\n",
    "# ★ここを変更\n",
    "bunkatu_count = 12      # 分割回数\n",
    "target_result = 31000  # 合計金額\n",
    "tax_rate = Decimal(10) # 消費税率\n",
    "\n",
    "tax_calc = 1 + (tax_rate / 100)\n",
    "result_list = []\n",
    "for i in range(target_result):\n",
    "    normal_king = Decimal(target_result - i) / Decimal(bunkatu_count - 1)\n",
    "    normal_king = math.floor(normal_king + Decimal(\"0.5\"))\n",
    "    first_king = target_result - ((bunkatu_count - 1) * normal_king)\n",
    "    normal_king_zeikomi = Decimal((normal_king) * tax_calc) \n",
    "    first_king_zeikomi = Decimal((first_king) * tax_calc) \n",
    "    if (normal_king_zeikomi - (math.floor(normal_king_zeikomi / 10) * 10) == 0) and (normal_king_zeikomi != 0) and (first_king_zeikomi != 0):\n",
    "        result_list.append([normal_king, int(normal_king_zeikomi), first_king, int(first_king_zeikomi)])\n",
    "list_of_tuples = [ tuple(x) for x in result_list ]\n",
    "unique_list = list(set(list_of_tuples))\n",
    "list_of_list = [ list(x) for x in unique_list ]\n",
    "list_of_list.sort()\n",
    "\n",
    "f = open(file_name, 'w')\n",
    "for x in list_of_list:\n",
    "    f.write(str(x) + \"\\n\")\n",
    "f.close()"
   ]
  },
  {
   "cell_type": "code",
   "execution_count": null,
   "metadata": {},
   "outputs": [],
   "source": []
  }
 ],
 "metadata": {
  "kernelspec": {
   "display_name": "Python 3",
   "language": "python",
   "name": "python3"
  },
  "language_info": {
   "codemirror_mode": {
    "name": "ipython",
    "version": 3
   },
   "file_extension": ".py",
   "mimetype": "text/x-python",
   "name": "python",
   "nbconvert_exporter": "python",
   "pygments_lexer": "ipython3",
   "version": "3.6.8"
  }
 },
 "nbformat": 4,
 "nbformat_minor": 2
}
